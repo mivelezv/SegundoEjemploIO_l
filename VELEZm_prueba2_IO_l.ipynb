{
  "nbformat": 4,
  "nbformat_minor": 0,
  "metadata": {
    "colab": {
      "provenance": [],
      "authorship_tag": "ABX9TyM9/WBqxOqmpOgs+WJS7zqf",
      "include_colab_link": true
    },
    "kernelspec": {
      "name": "python3",
      "display_name": "Python 3"
    },
    "language_info": {
      "name": "python"
    }
  },
  "cells": [
    {
      "cell_type": "markdown",
      "metadata": {
        "id": "view-in-github",
        "colab_type": "text"
      },
      "source": [
        "<a href=\"https://colab.research.google.com/github/mivelezv/SegundoEjemploIO_l/blob/main/VELEZm_prueba2_IO_l.ipynb\" target=\"_parent\"><img src=\"https://colab.research.google.com/assets/colab-badge.svg\" alt=\"Open In Colab\"/></a>"
      ]
    },
    {
      "cell_type": "markdown",
      "source": [
        "# Primer ejercicio\n",
        "\n",
        "## Esto es un subtítulo\n",
        "\n",
        "Esto es un texto normal\n"
      ],
      "metadata": {
        "id": "PI3S5pzr3tNA"
      }
    },
    {
      "cell_type": "code",
      "execution_count": 6,
      "metadata": {
        "colab": {
          "base_uri": "https://localhost:8080/"
        },
        "id": "E2nfDmv-2acl",
        "outputId": "9328ae65-7667-4bb9-e486-4bab5276cb84"
      },
      "outputs": [
        {
          "output_type": "stream",
          "name": "stdout",
          "text": [
            "Buenos días mundo\n"
          ]
        }
      ],
      "source": [
        "print('Buenos días mundo')"
      ]
    },
    {
      "cell_type": "markdown",
      "source": [
        "# Segundo ejercicio\n",
        "\n"
      ],
      "metadata": {
        "id": "1sC_HSxc4Nbw"
      }
    },
    {
      "cell_type": "code",
      "source": [
        "print('Buenos días, Mildrey')"
      ],
      "metadata": {
        "colab": {
          "base_uri": "https://localhost:8080/"
        },
        "id": "j-4hSqgu4SJI",
        "outputId": "95b60f9d-26cd-4ca0-9760-9e3248ffaaa6"
      },
      "execution_count": 7,
      "outputs": [
        {
          "output_type": "stream",
          "name": "stdout",
          "text": [
            "Buenos días, Mildrey\n"
          ]
        }
      ]
    }
  ]
}